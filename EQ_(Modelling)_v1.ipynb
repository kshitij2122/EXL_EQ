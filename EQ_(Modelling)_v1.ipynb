{
  "nbformat": 4,
  "nbformat_minor": 0,
  "metadata": {
    "colab": {
      "provenance": []
    },
    "kernelspec": {
      "name": "python3",
      "display_name": "Python 3"
    },
    "language_info": {
      "name": "python"
    }
  },
  "cells": [
    {
      "cell_type": "code",
      "execution_count": null,
      "metadata": {
        "id": "5j-Y6LGGGDQt"
      },
      "outputs": [],
      "source": [
        "import pandas as pd\n",
        "import numpy as np\n",
        "import matplotlib.pyplot as plt\n",
        "import seaborn as sns\n",
        "%matplotlib inline"
      ]
    },
    {
      "cell_type": "code",
      "source": [
        "df=pd.read_csv('/content/Historical_data.csv')"
      ],
      "metadata": {
        "id": "YB6AeXdXGPjF"
      },
      "execution_count": null,
      "outputs": []
    },
    {
      "cell_type": "code",
      "source": [
        "df.info()"
      ],
      "metadata": {
        "colab": {
          "base_uri": "https://localhost:8080/"
        },
        "id": "Olz3bas1GTi-",
        "outputId": "2c98928d-e5f6-48b4-9c7f-6da777ab88cc"
      },
      "execution_count": null,
      "outputs": [
        {
          "output_type": "stream",
          "name": "stdout",
          "text": [
            "<class 'pandas.core.frame.DataFrame'>\n",
            "RangeIndex: 23880 entries, 0 to 23879\n",
            "Data columns (total 17 columns):\n",
            " #   Column                      Non-Null Count  Dtype  \n",
            "---  ------                      --------------  -----  \n",
            " 0   customer_id                 23880 non-null  object \n",
            " 1   customer_age                23403 non-null  float64\n",
            " 2   job_type                    23880 non-null  object \n",
            " 3   marital                     23773 non-null  object \n",
            " 4   education                   23880 non-null  object \n",
            " 5   default                     23880 non-null  object \n",
            " 6   balance                     23603 non-null  float64\n",
            " 7   housing_loan                23880 non-null  object \n",
            " 8   personal_loan               23767 non-null  object \n",
            " 9   communication_type          23880 non-null  object \n",
            " 10  day_of_month                23880 non-null  int64  \n",
            " 11  month                       23880 non-null  object \n",
            " 12  last_contact_duration       23880 non-null  int64  \n",
            " 13  num_contacts_in_campaign    23784 non-null  float64\n",
            " 14  num_contacts_prev_campaign  23880 non-null  int64  \n",
            " 15  prev_campaign_outcome       23880 non-null  object \n",
            " 16  term_deposit_subscribed     23880 non-null  int64  \n",
            "dtypes: float64(3), int64(4), object(10)\n",
            "memory usage: 3.1+ MB\n"
          ]
        }
      ]
    },
    {
      "cell_type": "code",
      "source": [
        "df.head()"
      ],
      "metadata": {
        "colab": {
          "base_uri": "https://localhost:8080/",
          "height": 270
        },
        "id": "qW_zohZ0GTz8",
        "outputId": "f6482c43-9293-4cf9-ebca-be6186442bb5"
      },
      "execution_count": null,
      "outputs": [
        {
          "output_type": "execute_result",
          "data": {
            "text/html": [
              "\n",
              "  <div id=\"df-b4239a96-3bcc-4609-9a35-255964a72a8e\">\n",
              "    <div class=\"colab-df-container\">\n",
              "      <div>\n",
              "<style scoped>\n",
              "    .dataframe tbody tr th:only-of-type {\n",
              "        vertical-align: middle;\n",
              "    }\n",
              "\n",
              "    .dataframe tbody tr th {\n",
              "        vertical-align: top;\n",
              "    }\n",
              "\n",
              "    .dataframe thead th {\n",
              "        text-align: right;\n",
              "    }\n",
              "</style>\n",
              "<table border=\"1\" class=\"dataframe\">\n",
              "  <thead>\n",
              "    <tr style=\"text-align: right;\">\n",
              "      <th></th>\n",
              "      <th>customer_id</th>\n",
              "      <th>customer_age</th>\n",
              "      <th>job_type</th>\n",
              "      <th>marital</th>\n",
              "      <th>education</th>\n",
              "      <th>default</th>\n",
              "      <th>balance</th>\n",
              "      <th>housing_loan</th>\n",
              "      <th>personal_loan</th>\n",
              "      <th>communication_type</th>\n",
              "      <th>day_of_month</th>\n",
              "      <th>month</th>\n",
              "      <th>last_contact_duration</th>\n",
              "      <th>num_contacts_in_campaign</th>\n",
              "      <th>num_contacts_prev_campaign</th>\n",
              "      <th>prev_campaign_outcome</th>\n",
              "      <th>term_deposit_subscribed</th>\n",
              "    </tr>\n",
              "  </thead>\n",
              "  <tbody>\n",
              "    <tr>\n",
              "      <th>0</th>\n",
              "      <td>id_32289</td>\n",
              "      <td>34.0</td>\n",
              "      <td>blue-collar</td>\n",
              "      <td>married</td>\n",
              "      <td>secondary</td>\n",
              "      <td>no</td>\n",
              "      <td>934.0</td>\n",
              "      <td>no</td>\n",
              "      <td>yes</td>\n",
              "      <td>cellular</td>\n",
              "      <td>18</td>\n",
              "      <td>nov</td>\n",
              "      <td>704</td>\n",
              "      <td>2.0</td>\n",
              "      <td>1</td>\n",
              "      <td>other</td>\n",
              "      <td>0</td>\n",
              "    </tr>\n",
              "    <tr>\n",
              "      <th>1</th>\n",
              "      <td>id_40992</td>\n",
              "      <td>41.0</td>\n",
              "      <td>blue-collar</td>\n",
              "      <td>married</td>\n",
              "      <td>primary</td>\n",
              "      <td>no</td>\n",
              "      <td>1352.0</td>\n",
              "      <td>yes</td>\n",
              "      <td>no</td>\n",
              "      <td>cellular</td>\n",
              "      <td>13</td>\n",
              "      <td>may</td>\n",
              "      <td>893</td>\n",
              "      <td>2.0</td>\n",
              "      <td>0</td>\n",
              "      <td>unknown</td>\n",
              "      <td>0</td>\n",
              "    </tr>\n",
              "    <tr>\n",
              "      <th>2</th>\n",
              "      <td>id_41178</td>\n",
              "      <td>57.0</td>\n",
              "      <td>blue-collar</td>\n",
              "      <td>married</td>\n",
              "      <td>primary</td>\n",
              "      <td>no</td>\n",
              "      <td>495.0</td>\n",
              "      <td>no</td>\n",
              "      <td>no</td>\n",
              "      <td>cellular</td>\n",
              "      <td>18</td>\n",
              "      <td>aug</td>\n",
              "      <td>796</td>\n",
              "      <td>4.0</td>\n",
              "      <td>0</td>\n",
              "      <td>unknown</td>\n",
              "      <td>1</td>\n",
              "    </tr>\n",
              "    <tr>\n",
              "      <th>3</th>\n",
              "      <td>id_35102</td>\n",
              "      <td>37.0</td>\n",
              "      <td>management</td>\n",
              "      <td>married</td>\n",
              "      <td>tertiary</td>\n",
              "      <td>no</td>\n",
              "      <td>650.0</td>\n",
              "      <td>yes</td>\n",
              "      <td>NaN</td>\n",
              "      <td>unknown</td>\n",
              "      <td>26</td>\n",
              "      <td>may</td>\n",
              "      <td>880</td>\n",
              "      <td>1.0</td>\n",
              "      <td>0</td>\n",
              "      <td>unknown</td>\n",
              "      <td>0</td>\n",
              "    </tr>\n",
              "    <tr>\n",
              "      <th>4</th>\n",
              "      <td>id_34750</td>\n",
              "      <td>29.0</td>\n",
              "      <td>technician</td>\n",
              "      <td>married</td>\n",
              "      <td>secondary</td>\n",
              "      <td>no</td>\n",
              "      <td>265.0</td>\n",
              "      <td>yes</td>\n",
              "      <td>no</td>\n",
              "      <td>cellular</td>\n",
              "      <td>19</td>\n",
              "      <td>aug</td>\n",
              "      <td>795</td>\n",
              "      <td>2.0</td>\n",
              "      <td>0</td>\n",
              "      <td>unknown</td>\n",
              "      <td>0</td>\n",
              "    </tr>\n",
              "  </tbody>\n",
              "</table>\n",
              "</div>\n",
              "      <button class=\"colab-df-convert\" onclick=\"convertToInteractive('df-b4239a96-3bcc-4609-9a35-255964a72a8e')\"\n",
              "              title=\"Convert this dataframe to an interactive table.\"\n",
              "              style=\"display:none;\">\n",
              "        \n",
              "  <svg xmlns=\"http://www.w3.org/2000/svg\" height=\"24px\"viewBox=\"0 0 24 24\"\n",
              "       width=\"24px\">\n",
              "    <path d=\"M0 0h24v24H0V0z\" fill=\"none\"/>\n",
              "    <path d=\"M18.56 5.44l.94 2.06.94-2.06 2.06-.94-2.06-.94-.94-2.06-.94 2.06-2.06.94zm-11 1L8.5 8.5l.94-2.06 2.06-.94-2.06-.94L8.5 2.5l-.94 2.06-2.06.94zm10 10l.94 2.06.94-2.06 2.06-.94-2.06-.94-.94-2.06-.94 2.06-2.06.94z\"/><path d=\"M17.41 7.96l-1.37-1.37c-.4-.4-.92-.59-1.43-.59-.52 0-1.04.2-1.43.59L10.3 9.45l-7.72 7.72c-.78.78-.78 2.05 0 2.83L4 21.41c.39.39.9.59 1.41.59.51 0 1.02-.2 1.41-.59l7.78-7.78 2.81-2.81c.8-.78.8-2.07 0-2.86zM5.41 20L4 18.59l7.72-7.72 1.47 1.35L5.41 20z\"/>\n",
              "  </svg>\n",
              "      </button>\n",
              "      \n",
              "  <style>\n",
              "    .colab-df-container {\n",
              "      display:flex;\n",
              "      flex-wrap:wrap;\n",
              "      gap: 12px;\n",
              "    }\n",
              "\n",
              "    .colab-df-convert {\n",
              "      background-color: #E8F0FE;\n",
              "      border: none;\n",
              "      border-radius: 50%;\n",
              "      cursor: pointer;\n",
              "      display: none;\n",
              "      fill: #1967D2;\n",
              "      height: 32px;\n",
              "      padding: 0 0 0 0;\n",
              "      width: 32px;\n",
              "    }\n",
              "\n",
              "    .colab-df-convert:hover {\n",
              "      background-color: #E2EBFA;\n",
              "      box-shadow: 0px 1px 2px rgba(60, 64, 67, 0.3), 0px 1px 3px 1px rgba(60, 64, 67, 0.15);\n",
              "      fill: #174EA6;\n",
              "    }\n",
              "\n",
              "    [theme=dark] .colab-df-convert {\n",
              "      background-color: #3B4455;\n",
              "      fill: #D2E3FC;\n",
              "    }\n",
              "\n",
              "    [theme=dark] .colab-df-convert:hover {\n",
              "      background-color: #434B5C;\n",
              "      box-shadow: 0px 1px 3px 1px rgba(0, 0, 0, 0.15);\n",
              "      filter: drop-shadow(0px 1px 2px rgba(0, 0, 0, 0.3));\n",
              "      fill: #FFFFFF;\n",
              "    }\n",
              "  </style>\n",
              "\n",
              "      <script>\n",
              "        const buttonEl =\n",
              "          document.querySelector('#df-b4239a96-3bcc-4609-9a35-255964a72a8e button.colab-df-convert');\n",
              "        buttonEl.style.display =\n",
              "          google.colab.kernel.accessAllowed ? 'block' : 'none';\n",
              "\n",
              "        async function convertToInteractive(key) {\n",
              "          const element = document.querySelector('#df-b4239a96-3bcc-4609-9a35-255964a72a8e');\n",
              "          const dataTable =\n",
              "            await google.colab.kernel.invokeFunction('convertToInteractive',\n",
              "                                                     [key], {});\n",
              "          if (!dataTable) return;\n",
              "\n",
              "          const docLinkHtml = 'Like what you see? Visit the ' +\n",
              "            '<a target=\"_blank\" href=https://colab.research.google.com/notebooks/data_table.ipynb>data table notebook</a>'\n",
              "            + ' to learn more about interactive tables.';\n",
              "          element.innerHTML = '';\n",
              "          dataTable['output_type'] = 'display_data';\n",
              "          await google.colab.output.renderOutput(dataTable, element);\n",
              "          const docLink = document.createElement('div');\n",
              "          docLink.innerHTML = docLinkHtml;\n",
              "          element.appendChild(docLink);\n",
              "        }\n",
              "      </script>\n",
              "    </div>\n",
              "  </div>\n",
              "  "
            ],
            "text/plain": [
              "  customer_id  customer_age     job_type  marital  education default  balance  \\\n",
              "0    id_32289          34.0  blue-collar  married  secondary      no    934.0   \n",
              "1    id_40992          41.0  blue-collar  married    primary      no   1352.0   \n",
              "2    id_41178          57.0  blue-collar  married    primary      no    495.0   \n",
              "3    id_35102          37.0   management  married   tertiary      no    650.0   \n",
              "4    id_34750          29.0   technician  married  secondary      no    265.0   \n",
              "\n",
              "  housing_loan personal_loan communication_type  day_of_month month  \\\n",
              "0           no           yes           cellular            18   nov   \n",
              "1          yes            no           cellular            13   may   \n",
              "2           no            no           cellular            18   aug   \n",
              "3          yes           NaN            unknown            26   may   \n",
              "4          yes            no           cellular            19   aug   \n",
              "\n",
              "   last_contact_duration  num_contacts_in_campaign  \\\n",
              "0                    704                       2.0   \n",
              "1                    893                       2.0   \n",
              "2                    796                       4.0   \n",
              "3                    880                       1.0   \n",
              "4                    795                       2.0   \n",
              "\n",
              "   num_contacts_prev_campaign prev_campaign_outcome  term_deposit_subscribed  \n",
              "0                           1                 other                        0  \n",
              "1                           0               unknown                        0  \n",
              "2                           0               unknown                        1  \n",
              "3                           0               unknown                        0  \n",
              "4                           0               unknown                        0  "
            ]
          },
          "metadata": {},
          "execution_count": 4
        }
      ]
    },
    {
      "cell_type": "code",
      "source": [
        "df.columns"
      ],
      "metadata": {
        "colab": {
          "base_uri": "https://localhost:8080/"
        },
        "id": "fhDR6EGuGT3r",
        "outputId": "bce20bad-bf73-4d3e-f3b9-b8744b1ee8ec"
      },
      "execution_count": null,
      "outputs": [
        {
          "output_type": "execute_result",
          "data": {
            "text/plain": [
              "Index(['customer_id', 'customer_age', 'job_type', 'marital', 'education',\n",
              "       'default', 'balance', 'housing_loan', 'personal_loan',\n",
              "       'communication_type', 'day_of_month', 'month', 'last_contact_duration',\n",
              "       'num_contacts_in_campaign', 'num_contacts_prev_campaign',\n",
              "       'prev_campaign_outcome', 'term_deposit_subscribed'],\n",
              "      dtype='object')"
            ]
          },
          "metadata": {},
          "execution_count": 5
        }
      ]
    },
    {
      "cell_type": "code",
      "source": [
        "categorical_col=df.select_dtypes(include=['object']).columns\n",
        "categorical_col"
      ],
      "metadata": {
        "colab": {
          "base_uri": "https://localhost:8080/"
        },
        "id": "k1knvnwEGT61",
        "outputId": "1ccbf37d-bc19-46fd-925a-c46bcd15ede7"
      },
      "execution_count": null,
      "outputs": [
        {
          "output_type": "execute_result",
          "data": {
            "text/plain": [
              "Index(['customer_id', 'job_type', 'marital', 'education', 'default',\n",
              "       'housing_loan', 'personal_loan', 'communication_type', 'month',\n",
              "       'prev_campaign_outcome'],\n",
              "      dtype='object')"
            ]
          },
          "metadata": {},
          "execution_count": 6
        }
      ]
    },
    {
      "cell_type": "code",
      "source": [
        "numerical_col=df.select_dtypes(include=['float64','int64']).columns\n",
        "numerical_col"
      ],
      "metadata": {
        "colab": {
          "base_uri": "https://localhost:8080/"
        },
        "id": "AZJlr_0aGT99",
        "outputId": "48280f8a-bb1c-4a96-f7a1-ba7bc27202f8"
      },
      "execution_count": null,
      "outputs": [
        {
          "output_type": "execute_result",
          "data": {
            "text/plain": [
              "Index(['customer_age', 'balance', 'day_of_month', 'last_contact_duration',\n",
              "       'num_contacts_in_campaign', 'num_contacts_prev_campaign',\n",
              "       'term_deposit_subscribed'],\n",
              "      dtype='object')"
            ]
          },
          "metadata": {},
          "execution_count": 7
        }
      ]
    },
    {
      "cell_type": "code",
      "source": [
        "df.isna().sum()"
      ],
      "metadata": {
        "colab": {
          "base_uri": "https://localhost:8080/"
        },
        "id": "guWWJpBGGUBD",
        "outputId": "3550ca03-9475-492c-ebf4-67ef6d14ad2f"
      },
      "execution_count": null,
      "outputs": [
        {
          "output_type": "execute_result",
          "data": {
            "text/plain": [
              "customer_id                     0\n",
              "customer_age                  477\n",
              "job_type                        0\n",
              "marital                       107\n",
              "education                       0\n",
              "default                         0\n",
              "balance                       277\n",
              "housing_loan                    0\n",
              "personal_loan                 113\n",
              "communication_type              0\n",
              "day_of_month                    0\n",
              "month                           0\n",
              "last_contact_duration           0\n",
              "num_contacts_in_campaign       96\n",
              "num_contacts_prev_campaign      0\n",
              "prev_campaign_outcome           0\n",
              "term_deposit_subscribed         0\n",
              "dtype: int64"
            ]
          },
          "metadata": {},
          "execution_count": 8
        }
      ]
    },
    {
      "cell_type": "code",
      "source": [
        "total = df.isnull().sum().sort_values(ascending = False)\n",
        "percent = (df.isnull().sum()/df.isnull().count()*100).sort_values(ascending = False)\n",
        "missing_Data = pd.concat([total, percent], axis=1, keys=['Total', 'Percent'])\n",
        "missing_Data"
      ],
      "metadata": {
        "colab": {
          "base_uri": "https://localhost:8080/",
          "height": 582
        },
        "id": "xYjrp2ZNGUEs",
        "outputId": "bf79f18e-f868-450d-d38b-d174fcf89e33"
      },
      "execution_count": null,
      "outputs": [
        {
          "output_type": "execute_result",
          "data": {
            "text/html": [
              "\n",
              "  <div id=\"df-fd2aedb0-c2d9-4413-bc55-4e7e2721a117\">\n",
              "    <div class=\"colab-df-container\">\n",
              "      <div>\n",
              "<style scoped>\n",
              "    .dataframe tbody tr th:only-of-type {\n",
              "        vertical-align: middle;\n",
              "    }\n",
              "\n",
              "    .dataframe tbody tr th {\n",
              "        vertical-align: top;\n",
              "    }\n",
              "\n",
              "    .dataframe thead th {\n",
              "        text-align: right;\n",
              "    }\n",
              "</style>\n",
              "<table border=\"1\" class=\"dataframe\">\n",
              "  <thead>\n",
              "    <tr style=\"text-align: right;\">\n",
              "      <th></th>\n",
              "      <th>Total</th>\n",
              "      <th>Percent</th>\n",
              "    </tr>\n",
              "  </thead>\n",
              "  <tbody>\n",
              "    <tr>\n",
              "      <th>customer_age</th>\n",
              "      <td>477</td>\n",
              "      <td>1.997487</td>\n",
              "    </tr>\n",
              "    <tr>\n",
              "      <th>balance</th>\n",
              "      <td>277</td>\n",
              "      <td>1.159966</td>\n",
              "    </tr>\n",
              "    <tr>\n",
              "      <th>personal_loan</th>\n",
              "      <td>113</td>\n",
              "      <td>0.473199</td>\n",
              "    </tr>\n",
              "    <tr>\n",
              "      <th>marital</th>\n",
              "      <td>107</td>\n",
              "      <td>0.448074</td>\n",
              "    </tr>\n",
              "    <tr>\n",
              "      <th>num_contacts_in_campaign</th>\n",
              "      <td>96</td>\n",
              "      <td>0.402010</td>\n",
              "    </tr>\n",
              "    <tr>\n",
              "      <th>day_of_month</th>\n",
              "      <td>0</td>\n",
              "      <td>0.000000</td>\n",
              "    </tr>\n",
              "    <tr>\n",
              "      <th>prev_campaign_outcome</th>\n",
              "      <td>0</td>\n",
              "      <td>0.000000</td>\n",
              "    </tr>\n",
              "    <tr>\n",
              "      <th>num_contacts_prev_campaign</th>\n",
              "      <td>0</td>\n",
              "      <td>0.000000</td>\n",
              "    </tr>\n",
              "    <tr>\n",
              "      <th>last_contact_duration</th>\n",
              "      <td>0</td>\n",
              "      <td>0.000000</td>\n",
              "    </tr>\n",
              "    <tr>\n",
              "      <th>month</th>\n",
              "      <td>0</td>\n",
              "      <td>0.000000</td>\n",
              "    </tr>\n",
              "    <tr>\n",
              "      <th>customer_id</th>\n",
              "      <td>0</td>\n",
              "      <td>0.000000</td>\n",
              "    </tr>\n",
              "    <tr>\n",
              "      <th>communication_type</th>\n",
              "      <td>0</td>\n",
              "      <td>0.000000</td>\n",
              "    </tr>\n",
              "    <tr>\n",
              "      <th>housing_loan</th>\n",
              "      <td>0</td>\n",
              "      <td>0.000000</td>\n",
              "    </tr>\n",
              "    <tr>\n",
              "      <th>default</th>\n",
              "      <td>0</td>\n",
              "      <td>0.000000</td>\n",
              "    </tr>\n",
              "    <tr>\n",
              "      <th>education</th>\n",
              "      <td>0</td>\n",
              "      <td>0.000000</td>\n",
              "    </tr>\n",
              "    <tr>\n",
              "      <th>job_type</th>\n",
              "      <td>0</td>\n",
              "      <td>0.000000</td>\n",
              "    </tr>\n",
              "    <tr>\n",
              "      <th>term_deposit_subscribed</th>\n",
              "      <td>0</td>\n",
              "      <td>0.000000</td>\n",
              "    </tr>\n",
              "  </tbody>\n",
              "</table>\n",
              "</div>\n",
              "      <button class=\"colab-df-convert\" onclick=\"convertToInteractive('df-fd2aedb0-c2d9-4413-bc55-4e7e2721a117')\"\n",
              "              title=\"Convert this dataframe to an interactive table.\"\n",
              "              style=\"display:none;\">\n",
              "        \n",
              "  <svg xmlns=\"http://www.w3.org/2000/svg\" height=\"24px\"viewBox=\"0 0 24 24\"\n",
              "       width=\"24px\">\n",
              "    <path d=\"M0 0h24v24H0V0z\" fill=\"none\"/>\n",
              "    <path d=\"M18.56 5.44l.94 2.06.94-2.06 2.06-.94-2.06-.94-.94-2.06-.94 2.06-2.06.94zm-11 1L8.5 8.5l.94-2.06 2.06-.94-2.06-.94L8.5 2.5l-.94 2.06-2.06.94zm10 10l.94 2.06.94-2.06 2.06-.94-2.06-.94-.94-2.06-.94 2.06-2.06.94z\"/><path d=\"M17.41 7.96l-1.37-1.37c-.4-.4-.92-.59-1.43-.59-.52 0-1.04.2-1.43.59L10.3 9.45l-7.72 7.72c-.78.78-.78 2.05 0 2.83L4 21.41c.39.39.9.59 1.41.59.51 0 1.02-.2 1.41-.59l7.78-7.78 2.81-2.81c.8-.78.8-2.07 0-2.86zM5.41 20L4 18.59l7.72-7.72 1.47 1.35L5.41 20z\"/>\n",
              "  </svg>\n",
              "      </button>\n",
              "      \n",
              "  <style>\n",
              "    .colab-df-container {\n",
              "      display:flex;\n",
              "      flex-wrap:wrap;\n",
              "      gap: 12px;\n",
              "    }\n",
              "\n",
              "    .colab-df-convert {\n",
              "      background-color: #E8F0FE;\n",
              "      border: none;\n",
              "      border-radius: 50%;\n",
              "      cursor: pointer;\n",
              "      display: none;\n",
              "      fill: #1967D2;\n",
              "      height: 32px;\n",
              "      padding: 0 0 0 0;\n",
              "      width: 32px;\n",
              "    }\n",
              "\n",
              "    .colab-df-convert:hover {\n",
              "      background-color: #E2EBFA;\n",
              "      box-shadow: 0px 1px 2px rgba(60, 64, 67, 0.3), 0px 1px 3px 1px rgba(60, 64, 67, 0.15);\n",
              "      fill: #174EA6;\n",
              "    }\n",
              "\n",
              "    [theme=dark] .colab-df-convert {\n",
              "      background-color: #3B4455;\n",
              "      fill: #D2E3FC;\n",
              "    }\n",
              "\n",
              "    [theme=dark] .colab-df-convert:hover {\n",
              "      background-color: #434B5C;\n",
              "      box-shadow: 0px 1px 3px 1px rgba(0, 0, 0, 0.15);\n",
              "      filter: drop-shadow(0px 1px 2px rgba(0, 0, 0, 0.3));\n",
              "      fill: #FFFFFF;\n",
              "    }\n",
              "  </style>\n",
              "\n",
              "      <script>\n",
              "        const buttonEl =\n",
              "          document.querySelector('#df-fd2aedb0-c2d9-4413-bc55-4e7e2721a117 button.colab-df-convert');\n",
              "        buttonEl.style.display =\n",
              "          google.colab.kernel.accessAllowed ? 'block' : 'none';\n",
              "\n",
              "        async function convertToInteractive(key) {\n",
              "          const element = document.querySelector('#df-fd2aedb0-c2d9-4413-bc55-4e7e2721a117');\n",
              "          const dataTable =\n",
              "            await google.colab.kernel.invokeFunction('convertToInteractive',\n",
              "                                                     [key], {});\n",
              "          if (!dataTable) return;\n",
              "\n",
              "          const docLinkHtml = 'Like what you see? Visit the ' +\n",
              "            '<a target=\"_blank\" href=https://colab.research.google.com/notebooks/data_table.ipynb>data table notebook</a>'\n",
              "            + ' to learn more about interactive tables.';\n",
              "          element.innerHTML = '';\n",
              "          dataTable['output_type'] = 'display_data';\n",
              "          await google.colab.output.renderOutput(dataTable, element);\n",
              "          const docLink = document.createElement('div');\n",
              "          docLink.innerHTML = docLinkHtml;\n",
              "          element.appendChild(docLink);\n",
              "        }\n",
              "      </script>\n",
              "    </div>\n",
              "  </div>\n",
              "  "
            ],
            "text/plain": [
              "                            Total   Percent\n",
              "customer_age                  477  1.997487\n",
              "balance                       277  1.159966\n",
              "personal_loan                 113  0.473199\n",
              "marital                       107  0.448074\n",
              "num_contacts_in_campaign       96  0.402010\n",
              "day_of_month                    0  0.000000\n",
              "prev_campaign_outcome           0  0.000000\n",
              "num_contacts_prev_campaign      0  0.000000\n",
              "last_contact_duration           0  0.000000\n",
              "month                           0  0.000000\n",
              "customer_id                     0  0.000000\n",
              "communication_type              0  0.000000\n",
              "housing_loan                    0  0.000000\n",
              "default                         0  0.000000\n",
              "education                       0  0.000000\n",
              "job_type                        0  0.000000\n",
              "term_deposit_subscribed         0  0.000000"
            ]
          },
          "metadata": {},
          "execution_count": 9
        }
      ]
    },
    {
      "cell_type": "code",
      "source": [
        "df['customer_age']=df['customer_age'].fillna(df['customer_age'].mode()[0])\n",
        "df['balance']=df['balance'].fillna(df['balance'].mean())\n",
        "df['personal_loan']=df['personal_loan'].fillna(df['personal_loan'].mode()[0])\n",
        "df['marital']=df['marital'].fillna(df['marital'].mode()[0])\n",
        "df['num_contacts_in_campaign']=df['num_contacts_in_campaign'].fillna(df['num_contacts_in_campaign'].mean())"
      ],
      "metadata": {
        "id": "J7VZ_1RXGUI_"
      },
      "execution_count": null,
      "outputs": []
    },
    {
      "cell_type": "code",
      "source": [
        "df['month'].value_counts()"
      ],
      "metadata": {
        "colab": {
          "base_uri": "https://localhost:8080/"
        },
        "id": "AfNuvHHbGwDE",
        "outputId": "9c1b9f72-4a2f-49e9-bf32-12156d9072e4"
      },
      "execution_count": null,
      "outputs": [
        {
          "output_type": "execute_result",
          "data": {
            "text/plain": [
              "may    7331\n",
              "jul    3615\n",
              "aug    3260\n",
              "jun    2801\n",
              "nov    2104\n",
              "apr    1575\n",
              "feb    1381\n",
              "jan     731\n",
              "oct     389\n",
              "sep     319\n",
              "mar     261\n",
              "dec     113\n",
              "Name: month, dtype: int64"
            ]
          },
          "metadata": {},
          "execution_count": 11
        }
      ]
    },
    {
      "cell_type": "code",
      "source": [
        "df['day_of_month'].value_counts()"
      ],
      "metadata": {
        "colab": {
          "base_uri": "https://localhost:8080/"
        },
        "id": "gQxdP1lNKbw2",
        "outputId": "b4f16c24-8052-4a60-c896-13b48df391fe"
      },
      "execution_count": null,
      "outputs": [
        {
          "output_type": "execute_result",
          "data": {
            "text/plain": [
              "20    1437\n",
              "18    1224\n",
              "21    1059\n",
              "6     1040\n",
              "17    1030\n",
              "5      991\n",
              "7      972\n",
              "14     962\n",
              "8      960\n",
              "28     938\n",
              "19     927\n",
              "29     926\n",
              "15     906\n",
              "12     855\n",
              "30     829\n",
              "11     824\n",
              "13     821\n",
              "9      818\n",
              "4      766\n",
              "16     756\n",
              "2      648\n",
              "3      594\n",
              "27     579\n",
              "26     539\n",
              "23     513\n",
              "22     490\n",
              "25     435\n",
              "31     360\n",
              "10     263\n",
              "24     237\n",
              "1      181\n",
              "Name: day_of_month, dtype: int64"
            ]
          },
          "metadata": {},
          "execution_count": 12
        }
      ]
    },
    {
      "cell_type": "code",
      "source": [
        "df2=df[df['term_deposit_subscribed']==1]"
      ],
      "metadata": {
        "id": "9Ijhs_oSKh_g"
      },
      "execution_count": null,
      "outputs": []
    },
    {
      "cell_type": "code",
      "source": [
        "df2['month'].value_counts()"
      ],
      "metadata": {
        "colab": {
          "base_uri": "https://localhost:8080/"
        },
        "id": "V_rGCHYVKwm4",
        "outputId": "fb806530-f830-4c10-a52d-fe1329d1b1fe"
      },
      "execution_count": null,
      "outputs": [
        {
          "output_type": "execute_result",
          "data": {
            "text/plain": [
              "may    429\n",
              "aug    315\n",
              "jul    281\n",
              "apr    274\n",
              "jun    256\n",
              "feb    212\n",
              "nov    195\n",
              "oct    166\n",
              "sep    155\n",
              "mar    135\n",
              "jan     68\n",
              "dec     50\n",
              "Name: month, dtype: int64"
            ]
          },
          "metadata": {},
          "execution_count": 14
        }
      ]
    },
    {
      "cell_type": "code",
      "source": [
        "df2['day_of_month'].value_counts()"
      ],
      "metadata": {
        "colab": {
          "base_uri": "https://localhost:8080/"
        },
        "id": "JiOWAYKzK1fq",
        "outputId": "849d7b2d-2b68-4144-a2bd-df3a5ab9920e"
      },
      "execution_count": null,
      "outputs": [
        {
          "output_type": "execute_result",
          "data": {
            "text/plain": [
              "30    143\n",
              "15    116\n",
              "13    115\n",
              "12    111\n",
              "5     108\n",
              "18    107\n",
              "3      99\n",
              "4      99\n",
              "21     97\n",
              "20     96\n",
              "16     95\n",
              "9      92\n",
              "2      91\n",
              "11     90\n",
              "14     88\n",
              "17     86\n",
              "8      86\n",
              "6      82\n",
              "27     81\n",
              "22     78\n",
              "7      75\n",
              "29     65\n",
              "25     62\n",
              "28     59\n",
              "26     59\n",
              "10     57\n",
              "23     52\n",
              "19     50\n",
              "1      47\n",
              "31     26\n",
              "24     24\n",
              "Name: day_of_month, dtype: int64"
            ]
          },
          "metadata": {},
          "execution_count": 15
        }
      ]
    },
    {
      "cell_type": "code",
      "source": [
        "df['job_type'].value_counts()"
      ],
      "metadata": {
        "colab": {
          "base_uri": "https://localhost:8080/"
        },
        "id": "Med9_pdQLgcg",
        "outputId": "31bce297-4cb2-47f8-f993-f185e5b2408c"
      },
      "execution_count": null,
      "outputs": [
        {
          "output_type": "execute_result",
          "data": {
            "text/plain": [
              "blue-collar      5167\n",
              "management       5006\n",
              "technician       3978\n",
              "admin.           2717\n",
              "services         2224\n",
              "retired          1176\n",
              "self-employed     845\n",
              "entrepreneur      773\n",
              "unemployed        675\n",
              "housemaid         663\n",
              "student           502\n",
              "unknown           154\n",
              "Name: job_type, dtype: int64"
            ]
          },
          "metadata": {},
          "execution_count": 16
        }
      ]
    },
    {
      "cell_type": "code",
      "source": [
        "df['job_type']=df['job_type'].replace('unknown',\"UNKNOWN\")\n"
      ],
      "metadata": {
        "id": "NR0j4lqkM9Lb"
      },
      "execution_count": null,
      "outputs": []
    },
    {
      "cell_type": "code",
      "source": [
        "df['job_type'].value_counts()"
      ],
      "metadata": {
        "colab": {
          "base_uri": "https://localhost:8080/"
        },
        "id": "nl46o2pWOdsT",
        "outputId": "c15faa5b-38cf-40ed-ef14-ce19682eecb4"
      },
      "execution_count": null,
      "outputs": [
        {
          "output_type": "execute_result",
          "data": {
            "text/plain": [
              "blue-collar      5167\n",
              "management       5006\n",
              "technician       3978\n",
              "admin.           2717\n",
              "services         2224\n",
              "retired          1176\n",
              "self-employed     845\n",
              "entrepreneur      773\n",
              "unemployed        675\n",
              "housemaid         663\n",
              "student           502\n",
              "UNKNOWN           154\n",
              "Name: job_type, dtype: int64"
            ]
          },
          "metadata": {},
          "execution_count": 18
        }
      ]
    },
    {
      "cell_type": "code",
      "source": [
        "df['education']=df['education'].replace('unknown','UNKNOWN')\n",
        "df['education']"
      ],
      "metadata": {
        "colab": {
          "base_uri": "https://localhost:8080/"
        },
        "id": "oDwYuq7cOk-x",
        "outputId": "b1c019bd-dc1c-4e07-a7e0-40d3287caf01"
      },
      "execution_count": null,
      "outputs": [
        {
          "output_type": "execute_result",
          "data": {
            "text/plain": [
              "0        secondary\n",
              "1          primary\n",
              "2          primary\n",
              "3         tertiary\n",
              "4        secondary\n",
              "           ...    \n",
              "23875    secondary\n",
              "23876     tertiary\n",
              "23877      primary\n",
              "23878    secondary\n",
              "23879     tertiary\n",
              "Name: education, Length: 23880, dtype: object"
            ]
          },
          "metadata": {},
          "execution_count": 19
        }
      ]
    },
    {
      "cell_type": "code",
      "source": [
        "df['communication_type']=df['communication_type'].replace('unknown',\"UNKNOWN\")\n",
        "df['communication_type'].value_counts()"
      ],
      "metadata": {
        "colab": {
          "base_uri": "https://localhost:8080/"
        },
        "id": "WK1pOZ7BOvZ9",
        "outputId": "cfaa6859-3947-4940-94bf-fc0fd150949c"
      },
      "execution_count": null,
      "outputs": [
        {
          "output_type": "execute_result",
          "data": {
            "text/plain": [
              "cellular     15486\n",
              "UNKNOWN       6892\n",
              "telephone     1502\n",
              "Name: communication_type, dtype: int64"
            ]
          },
          "metadata": {},
          "execution_count": 20
        }
      ]
    },
    {
      "cell_type": "code",
      "source": [
        "df.corr()"
      ],
      "metadata": {
        "colab": {
          "base_uri": "https://localhost:8080/",
          "height": 333
        },
        "id": "GxGVGtoLPNkt",
        "outputId": "636c8a73-c72d-4bae-b385-faf83f17d765"
      },
      "execution_count": null,
      "outputs": [
        {
          "output_type": "execute_result",
          "data": {
            "text/html": [
              "\n",
              "  <div id=\"df-8d8a34b0-1358-402e-b07c-5907dc88fc60\">\n",
              "    <div class=\"colab-df-container\">\n",
              "      <div>\n",
              "<style scoped>\n",
              "    .dataframe tbody tr th:only-of-type {\n",
              "        vertical-align: middle;\n",
              "    }\n",
              "\n",
              "    .dataframe tbody tr th {\n",
              "        vertical-align: top;\n",
              "    }\n",
              "\n",
              "    .dataframe thead th {\n",
              "        text-align: right;\n",
              "    }\n",
              "</style>\n",
              "<table border=\"1\" class=\"dataframe\">\n",
              "  <thead>\n",
              "    <tr style=\"text-align: right;\">\n",
              "      <th></th>\n",
              "      <th>customer_age</th>\n",
              "      <th>balance</th>\n",
              "      <th>day_of_month</th>\n",
              "      <th>last_contact_duration</th>\n",
              "      <th>num_contacts_in_campaign</th>\n",
              "      <th>num_contacts_prev_campaign</th>\n",
              "      <th>term_deposit_subscribed</th>\n",
              "    </tr>\n",
              "  </thead>\n",
              "  <tbody>\n",
              "    <tr>\n",
              "      <th>customer_age</th>\n",
              "      <td>1.000000</td>\n",
              "      <td>0.105866</td>\n",
              "      <td>-0.014368</td>\n",
              "      <td>-0.090574</td>\n",
              "      <td>0.007390</td>\n",
              "      <td>-0.003991</td>\n",
              "      <td>0.031996</td>\n",
              "    </tr>\n",
              "    <tr>\n",
              "      <th>balance</th>\n",
              "      <td>0.105866</td>\n",
              "      <td>1.000000</td>\n",
              "      <td>0.004343</td>\n",
              "      <td>-0.096397</td>\n",
              "      <td>-0.018092</td>\n",
              "      <td>0.011196</td>\n",
              "      <td>0.052716</td>\n",
              "    </tr>\n",
              "    <tr>\n",
              "      <th>day_of_month</th>\n",
              "      <td>-0.014368</td>\n",
              "      <td>0.004343</td>\n",
              "      <td>1.000000</td>\n",
              "      <td>-0.208932</td>\n",
              "      <td>0.164493</td>\n",
              "      <td>-0.044913</td>\n",
              "      <td>-0.024477</td>\n",
              "    </tr>\n",
              "    <tr>\n",
              "      <th>last_contact_duration</th>\n",
              "      <td>-0.090574</td>\n",
              "      <td>-0.096397</td>\n",
              "      <td>-0.208932</td>\n",
              "      <td>1.000000</td>\n",
              "      <td>-0.068336</td>\n",
              "      <td>0.037976</td>\n",
              "      <td>-0.019215</td>\n",
              "    </tr>\n",
              "    <tr>\n",
              "      <th>num_contacts_in_campaign</th>\n",
              "      <td>0.007390</td>\n",
              "      <td>-0.018092</td>\n",
              "      <td>0.164493</td>\n",
              "      <td>-0.068336</td>\n",
              "      <td>1.000000</td>\n",
              "      <td>-0.029702</td>\n",
              "      <td>-0.071062</td>\n",
              "    </tr>\n",
              "    <tr>\n",
              "      <th>num_contacts_prev_campaign</th>\n",
              "      <td>-0.003991</td>\n",
              "      <td>0.011196</td>\n",
              "      <td>-0.044913</td>\n",
              "      <td>0.037976</td>\n",
              "      <td>-0.029702</td>\n",
              "      <td>1.000000</td>\n",
              "      <td>0.084544</td>\n",
              "    </tr>\n",
              "    <tr>\n",
              "      <th>term_deposit_subscribed</th>\n",
              "      <td>0.031996</td>\n",
              "      <td>0.052716</td>\n",
              "      <td>-0.024477</td>\n",
              "      <td>-0.019215</td>\n",
              "      <td>-0.071062</td>\n",
              "      <td>0.084544</td>\n",
              "      <td>1.000000</td>\n",
              "    </tr>\n",
              "  </tbody>\n",
              "</table>\n",
              "</div>\n",
              "      <button class=\"colab-df-convert\" onclick=\"convertToInteractive('df-8d8a34b0-1358-402e-b07c-5907dc88fc60')\"\n",
              "              title=\"Convert this dataframe to an interactive table.\"\n",
              "              style=\"display:none;\">\n",
              "        \n",
              "  <svg xmlns=\"http://www.w3.org/2000/svg\" height=\"24px\"viewBox=\"0 0 24 24\"\n",
              "       width=\"24px\">\n",
              "    <path d=\"M0 0h24v24H0V0z\" fill=\"none\"/>\n",
              "    <path d=\"M18.56 5.44l.94 2.06.94-2.06 2.06-.94-2.06-.94-.94-2.06-.94 2.06-2.06.94zm-11 1L8.5 8.5l.94-2.06 2.06-.94-2.06-.94L8.5 2.5l-.94 2.06-2.06.94zm10 10l.94 2.06.94-2.06 2.06-.94-2.06-.94-.94-2.06-.94 2.06-2.06.94z\"/><path d=\"M17.41 7.96l-1.37-1.37c-.4-.4-.92-.59-1.43-.59-.52 0-1.04.2-1.43.59L10.3 9.45l-7.72 7.72c-.78.78-.78 2.05 0 2.83L4 21.41c.39.39.9.59 1.41.59.51 0 1.02-.2 1.41-.59l7.78-7.78 2.81-2.81c.8-.78.8-2.07 0-2.86zM5.41 20L4 18.59l7.72-7.72 1.47 1.35L5.41 20z\"/>\n",
              "  </svg>\n",
              "      </button>\n",
              "      \n",
              "  <style>\n",
              "    .colab-df-container {\n",
              "      display:flex;\n",
              "      flex-wrap:wrap;\n",
              "      gap: 12px;\n",
              "    }\n",
              "\n",
              "    .colab-df-convert {\n",
              "      background-color: #E8F0FE;\n",
              "      border: none;\n",
              "      border-radius: 50%;\n",
              "      cursor: pointer;\n",
              "      display: none;\n",
              "      fill: #1967D2;\n",
              "      height: 32px;\n",
              "      padding: 0 0 0 0;\n",
              "      width: 32px;\n",
              "    }\n",
              "\n",
              "    .colab-df-convert:hover {\n",
              "      background-color: #E2EBFA;\n",
              "      box-shadow: 0px 1px 2px rgba(60, 64, 67, 0.3), 0px 1px 3px 1px rgba(60, 64, 67, 0.15);\n",
              "      fill: #174EA6;\n",
              "    }\n",
              "\n",
              "    [theme=dark] .colab-df-convert {\n",
              "      background-color: #3B4455;\n",
              "      fill: #D2E3FC;\n",
              "    }\n",
              "\n",
              "    [theme=dark] .colab-df-convert:hover {\n",
              "      background-color: #434B5C;\n",
              "      box-shadow: 0px 1px 3px 1px rgba(0, 0, 0, 0.15);\n",
              "      filter: drop-shadow(0px 1px 2px rgba(0, 0, 0, 0.3));\n",
              "      fill: #FFFFFF;\n",
              "    }\n",
              "  </style>\n",
              "\n",
              "      <script>\n",
              "        const buttonEl =\n",
              "          document.querySelector('#df-8d8a34b0-1358-402e-b07c-5907dc88fc60 button.colab-df-convert');\n",
              "        buttonEl.style.display =\n",
              "          google.colab.kernel.accessAllowed ? 'block' : 'none';\n",
              "\n",
              "        async function convertToInteractive(key) {\n",
              "          const element = document.querySelector('#df-8d8a34b0-1358-402e-b07c-5907dc88fc60');\n",
              "          const dataTable =\n",
              "            await google.colab.kernel.invokeFunction('convertToInteractive',\n",
              "                                                     [key], {});\n",
              "          if (!dataTable) return;\n",
              "\n",
              "          const docLinkHtml = 'Like what you see? Visit the ' +\n",
              "            '<a target=\"_blank\" href=https://colab.research.google.com/notebooks/data_table.ipynb>data table notebook</a>'\n",
              "            + ' to learn more about interactive tables.';\n",
              "          element.innerHTML = '';\n",
              "          dataTable['output_type'] = 'display_data';\n",
              "          await google.colab.output.renderOutput(dataTable, element);\n",
              "          const docLink = document.createElement('div');\n",
              "          docLink.innerHTML = docLinkHtml;\n",
              "          element.appendChild(docLink);\n",
              "        }\n",
              "      </script>\n",
              "    </div>\n",
              "  </div>\n",
              "  "
            ],
            "text/plain": [
              "                            customer_age   balance  day_of_month  \\\n",
              "customer_age                    1.000000  0.105866     -0.014368   \n",
              "balance                         0.105866  1.000000      0.004343   \n",
              "day_of_month                   -0.014368  0.004343      1.000000   \n",
              "last_contact_duration          -0.090574 -0.096397     -0.208932   \n",
              "num_contacts_in_campaign        0.007390 -0.018092      0.164493   \n",
              "num_contacts_prev_campaign     -0.003991  0.011196     -0.044913   \n",
              "term_deposit_subscribed         0.031996  0.052716     -0.024477   \n",
              "\n",
              "                            last_contact_duration  num_contacts_in_campaign  \\\n",
              "customer_age                            -0.090574                  0.007390   \n",
              "balance                                 -0.096397                 -0.018092   \n",
              "day_of_month                            -0.208932                  0.164493   \n",
              "last_contact_duration                    1.000000                 -0.068336   \n",
              "num_contacts_in_campaign                -0.068336                  1.000000   \n",
              "num_contacts_prev_campaign               0.037976                 -0.029702   \n",
              "term_deposit_subscribed                 -0.019215                 -0.071062   \n",
              "\n",
              "                            num_contacts_prev_campaign  \\\n",
              "customer_age                                 -0.003991   \n",
              "balance                                       0.011196   \n",
              "day_of_month                                 -0.044913   \n",
              "last_contact_duration                         0.037976   \n",
              "num_contacts_in_campaign                     -0.029702   \n",
              "num_contacts_prev_campaign                    1.000000   \n",
              "term_deposit_subscribed                       0.084544   \n",
              "\n",
              "                            term_deposit_subscribed  \n",
              "customer_age                               0.031996  \n",
              "balance                                    0.052716  \n",
              "day_of_month                              -0.024477  \n",
              "last_contact_duration                     -0.019215  \n",
              "num_contacts_in_campaign                  -0.071062  \n",
              "num_contacts_prev_campaign                 0.084544  \n",
              "term_deposit_subscribed                    1.000000  "
            ]
          },
          "metadata": {},
          "execution_count": 21
        }
      ]
    },
    {
      "cell_type": "code",
      "source": [
        "plt.figure(figsize=[15, 15])\n",
        "sns.heatmap(data=df.corr(), vmin=-1, vmax=1, cmap='gist_earth_r', annot=True, square=True, linewidths=1)"
      ],
      "metadata": {
        "colab": {
          "base_uri": "https://localhost:8080/",
          "height": 954
        },
        "id": "_ZfIRFN6Pvag",
        "outputId": "4219df43-61fb-4790-d85c-23e95be74b3c"
      },
      "execution_count": null,
      "outputs": [
        {
          "output_type": "execute_result",
          "data": {
            "text/plain": [
              "<matplotlib.axes._subplots.AxesSubplot at 0x7fc7bbcedd50>"
            ]
          },
          "metadata": {},
          "execution_count": 22
        },
        {
          "output_type": "display_data",
          "data": {
            "image/png": "[encoded data removed]",
            "text/plain": [
              "<Figure size 1080x1080 with 2 Axes>"
            ]
          },
          "metadata": {
            "needs_background": "light"
          }
        }
      ]
    },
    {
      "cell_type": "code",
      "source": [
        "from sklearn.preprocessing import LabelEncoder\n",
        "labelencoder=LabelEncoder()\n",
        "for col in categorical_col:\n",
        "  df[col]=labelencoder.fit_transform(df[col])\n",
        "df.info()  "
      ],
      "metadata": {
        "colab": {
          "base_uri": "https://localhost:8080/"
        },
        "id": "SR-XgVD2P1US",
        "outputId": "70272ae3-9fa1-4d2e-d133-9d7059ae1fd3"
      },
      "execution_count": null,
      "outputs": [
        {
          "output_type": "stream",
          "name": "stdout",
          "text": [
            "<class 'pandas.core.frame.DataFrame'>\n",
            "RangeIndex: 23880 entries, 0 to 23879\n",
            "Data columns (total 17 columns):\n",
            " #   Column                      Non-Null Count  Dtype  \n",
            "---  ------                      --------------  -----  \n",
            " 0   customer_id                 23880 non-null  int64  \n",
            " 1   customer_age                23880 non-null  float64\n",
            " 2   job_type                    23880 non-null  int64  \n",
            " 3   marital                     23880 non-null  int64  \n",
            " 4   education                   23880 non-null  int64  \n",
            " 5   default                     23880 non-null  int64  \n",
            " 6   balance                     23880 non-null  float64\n",
            " 7   housing_loan                23880 non-null  int64  \n",
            " 8   personal_loan               23880 non-null  int64  \n",
            " 9   communication_type          23880 non-null  int64  \n",
            " 10  day_of_month                23880 non-null  int64  \n",
            " 11  month                       23880 non-null  int64  \n",
            " 12  last_contact_duration       23880 non-null  int64  \n",
            " 13  num_contacts_in_campaign    23880 non-null  float64\n",
            " 14  num_contacts_prev_campaign  23880 non-null  int64  \n",
            " 15  prev_campaign_outcome       23880 non-null  int64  \n",
            " 16  term_deposit_subscribed     23880 non-null  int64  \n",
            "dtypes: float64(3), int64(14)\n",
            "memory usage: 3.1 MB\n"
          ]
        }
      ]
    },
    {
      "cell_type": "code",
      "source": [
        "plt.figure(figsize=[15, 15])\n",
        "sns.heatmap(data=df.corr(), vmin=-1, vmax=1, cmap='gist_earth_r', annot=True, square=True, linewidths=1)"
      ],
      "metadata": {
        "colab": {
          "base_uri": "https://localhost:8080/",
          "height": 954
        },
        "id": "1TV8lRXpRxaz",
        "outputId": "404cf543-1aaa-4b75-f875-364e46905f57"
      },
      "execution_count": null,
      "outputs": [
        {
          "output_type": "execute_result",
          "data": {
            "text/plain": [
              "<matplotlib.axes._subplots.AxesSubplot at 0x7fc79dd08e10>"
            ]
          },
          "metadata": {},
          "execution_count": 24
        },
        {
          "output_type": "display_data",
          "data": {
            "image/png": "[encoded data removed]",
            "text/plain": [
              "<Figure size 1080x1080 with 2 Axes>"
            ]
          },
          "metadata": {
            "needs_background": "light"
          }
        }
      ]
    },
    {
      "cell_type": "code",
      "source": [
        "df_new=pd.read_csv('/content/New_customer_list_data.csv')"
      ],
      "metadata": {
        "id": "d-QWRNZWR39n"
      },
      "execution_count": null,
      "outputs": []
    },
    {
      "cell_type": "code",
      "source": [
        "df_new.info()"
      ],
      "metadata": {
        "colab": {
          "base_uri": "https://localhost:8080/"
        },
        "id": "mkh_p3YTSXQi",
        "outputId": "8a9d46b1-498b-4f57-9a6b-bc3509ed5167"
      },
      "execution_count": null,
      "outputs": [
        {
          "output_type": "stream",
          "name": "stdout",
          "text": [
            "<class 'pandas.core.frame.DataFrame'>\n",
            "RangeIndex: 7767 entries, 0 to 7766\n",
            "Data columns (total 16 columns):\n",
            " #   Column                      Non-Null Count  Dtype  \n",
            "---  ------                      --------------  -----  \n",
            " 0   customer_id                 7767 non-null   object \n",
            " 1   customer_age                7625 non-null   float64\n",
            " 2   job_type                    7767 non-null   object \n",
            " 3   marital                     7724 non-null   object \n",
            " 4   education                   7767 non-null   object \n",
            " 5   default                     7767 non-null   object \n",
            " 6   balance                     7645 non-null   float64\n",
            " 7   housing_loan                7767 non-null   object \n",
            " 8   personal_loan               7731 non-null   object \n",
            " 9   communication_type          7767 non-null   object \n",
            " 10  last_contact_duration       7767 non-null   int64  \n",
            " 11  day_of_month                7767 non-null   int64  \n",
            " 12  month                       7767 non-null   object \n",
            " 13  num_contacts_in_campaign    7751 non-null   float64\n",
            " 14  num_contacts_prev_campaign  7767 non-null   int64  \n",
            " 15  prev_campaign_outcome       7767 non-null   object \n",
            "dtypes: float64(3), int64(3), object(10)\n",
            "memory usage: 971.0+ KB\n"
          ]
        }
      ]
    },
    {
      "cell_type": "code",
      "source": [
        "df_new.isna().sum()"
      ],
      "metadata": {
        "colab": {
          "base_uri": "https://localhost:8080/"
        },
        "id": "0AufhTMySahp",
        "outputId": "50240b39-6c47-4166-eb90-17bb866b81ab"
      },
      "execution_count": null,
      "outputs": [
        {
          "output_type": "execute_result",
          "data": {
            "text/plain": [
              "customer_id                     0\n",
              "customer_age                  142\n",
              "job_type                        0\n",
              "marital                        43\n",
              "education                       0\n",
              "default                         0\n",
              "balance                       122\n",
              "housing_loan                    0\n",
              "personal_loan                  36\n",
              "communication_type              0\n",
              "last_contact_duration           0\n",
              "day_of_month                    0\n",
              "month                           0\n",
              "num_contacts_in_campaign       16\n",
              "num_contacts_prev_campaign      0\n",
              "prev_campaign_outcome           0\n",
              "dtype: int64"
            ]
          },
          "metadata": {},
          "execution_count": 27
        }
      ]
    },
    {
      "cell_type": "code",
      "source": [
        "df_new['customer_age']=df_new['customer_age'].fillna(df_new['customer_age'].mode()[0])\n",
        "df_new['balance']=df_new['balance'].fillna(df_new['balance'].mean())\n",
        "df_new['personal_loan']=df_new['personal_loan'].fillna(df_new['personal_loan'].mode()[0])\n",
        "df_new['marital']=df_new['marital'].fillna(df_new['marital'].mode()[0])\n",
        "df_new['num_contacts_in_campaign']=df_new['num_contacts_in_campaign'].fillna(df_new['num_contacts_in_campaign'].mean())"
      ],
      "metadata": {
        "id": "e7Wg1MHrSlat"
      },
      "execution_count": null,
      "outputs": []
    },
    {
      "cell_type": "code",
      "source": [
        "plt.figure(figsize=[15, 15])\n",
        "sns.heatmap(data=df_new.corr(), vmin=-1, vmax=1, cmap='gist_earth_r', annot=True, square=True, linewidths=1)"
      ],
      "metadata": {
        "colab": {
          "base_uri": "https://localhost:8080/",
          "height": 954
        },
        "id": "ttpoj2gHTWce",
        "outputId": "710c34af-48e0-41a0-ed5a-1e1a1a437d65"
      },
      "execution_count": null,
      "outputs": [
        {
          "output_type": "execute_result",
          "data": {
            "text/plain": [
              "<matplotlib.axes._subplots.AxesSubplot at 0x7fc79d86a290>"
            ]
          },
          "metadata": {},
          "execution_count": 29
        },
        {
          "output_type": "display_data",
          "data": {
            "image/png": "[encoded data removed]",
            "text/plain": [
              "<Figure size 1080x1080 with 2 Axes>"
            ]
          },
          "metadata": {
            "needs_background": "light"
          }
        }
      ]
    },
    {
      "cell_type": "code",
      "source": [
        "df_new['job_type']=df_new['job_type'].replace('unknown',\"UNKNOWN\")\n",
        "df_new['job_type'].value_counts()"
      ],
      "metadata": {
        "colab": {
          "base_uri": "https://localhost:8080/"
        },
        "id": "WEMjY5wjUBbg",
        "outputId": "dc644789-c483-4316-9dc6-cb026f126e18"
      },
      "execution_count": null,
      "outputs": [
        {
          "output_type": "execute_result",
          "data": {
            "text/plain": [
              "management       1660\n",
              "blue-collar      1649\n",
              "technician       1242\n",
              "admin.            910\n",
              "services          699\n",
              "retired           415\n",
              "self-employed     266\n",
              "entrepreneur      264\n",
              "housemaid         230\n",
              "unemployed        226\n",
              "student           161\n",
              "UNKNOWN            45\n",
              "Name: job_type, dtype: int64"
            ]
          },
          "metadata": {},
          "execution_count": 30
        }
      ]
    },
    {
      "cell_type": "code",
      "source": [
        "df_new['education']=df_new['education'].replace('unknown','UNKNOWN')\n",
        "df_new['education'].value_counts()"
      ],
      "metadata": {
        "colab": {
          "base_uri": "https://localhost:8080/"
        },
        "id": "5U8RqEO0UP51",
        "outputId": "22e39a22-e3a2-4bb9-deae-6e7dbd1522f4"
      },
      "execution_count": null,
      "outputs": [
        {
          "output_type": "execute_result",
          "data": {
            "text/plain": [
              "secondary    3917\n",
              "tertiary     2328\n",
              "primary      1216\n",
              "UNKNOWN       306\n",
              "Name: education, dtype: int64"
            ]
          },
          "metadata": {},
          "execution_count": 31
        }
      ]
    },
    {
      "cell_type": "code",
      "source": [
        "df_new['communication_type']=df_new['communication_type'].replace('unknown','UNKNOWN')\n",
        "df_new['communication_type'].value_counts()"
      ],
      "metadata": {
        "colab": {
          "base_uri": "https://localhost:8080/"
        },
        "id": "rJwWm-MUVEd9",
        "outputId": "b86a540f-d689-4aa7-c0a4-1098fcf7b2ba"
      },
      "execution_count": null,
      "outputs": [
        {
          "output_type": "execute_result",
          "data": {
            "text/plain": [
              "cellular     4994\n",
              "UNKNOWN      2259\n",
              "telephone     514\n",
              "Name: communication_type, dtype: int64"
            ]
          },
          "metadata": {},
          "execution_count": 32
        }
      ]
    },
    {
      "cell_type": "code",
      "source": [
        "categorical_col_2=df_new.select_dtypes(include=['object']).columns\n",
        "categorical_col_2"
      ],
      "metadata": {
        "colab": {
          "base_uri": "https://localhost:8080/"
        },
        "id": "3jjW9X7_VoQr",
        "outputId": "3bfcdb00-0563-47be-fb9c-564ac397ea81"
      },
      "execution_count": null,
      "outputs": [
        {
          "output_type": "execute_result",
          "data": {
            "text/plain": [
              "Index(['customer_id', 'job_type', 'marital', 'education', 'default',\n",
              "       'housing_loan', 'personal_loan', 'communication_type', 'month',\n",
              "       'prev_campaign_outcome'],\n",
              "      dtype='object')"
            ]
          },
          "metadata": {},
          "execution_count": 33
        }
      ]
    },
    {
      "cell_type": "code",
      "source": [
        "from sklearn.preprocessing import LabelEncoder\n",
        "labelencoder=LabelEncoder()\n",
        "for col in categorical_col_2:\n",
        "  df_new[col]=labelencoder.fit_transform(df_new[col])\n",
        "df_new.info()  "
      ],
      "metadata": {
        "colab": {
          "base_uri": "https://localhost:8080/"
        },
        "id": "w28bs2z8Vah3",
        "outputId": "1b599c6b-ea30-4112-bb96-52041bb46f66"
      },
      "execution_count": null,
      "outputs": [
        {
          "output_type": "stream",
          "name": "stdout",
          "text": [
            "<class 'pandas.core.frame.DataFrame'>\n",
            "RangeIndex: 7767 entries, 0 to 7766\n",
            "Data columns (total 16 columns):\n",
            " #   Column                      Non-Null Count  Dtype  \n",
            "---  ------                      --------------  -----  \n",
            " 0   customer_id                 7767 non-null   int64  \n",
            " 1   customer_age                7767 non-null   float64\n",
            " 2   job_type                    7767 non-null   int64  \n",
            " 3   marital                     7767 non-null   int64  \n",
            " 4   education                   7767 non-null   int64  \n",
            " 5   default                     7767 non-null   int64  \n",
            " 6   balance                     7767 non-null   float64\n",
            " 7   housing_loan                7767 non-null   int64  \n",
            " 8   personal_loan               7767 non-null   int64  \n",
            " 9   communication_type          7767 non-null   int64  \n",
            " 10  last_contact_duration       7767 non-null   int64  \n",
            " 11  day_of_month                7767 non-null   int64  \n",
            " 12  month                       7767 non-null   int64  \n",
            " 13  num_contacts_in_campaign    7767 non-null   float64\n",
            " 14  num_contacts_prev_campaign  7767 non-null   int64  \n",
            " 15  prev_campaign_outcome       7767 non-null   int64  \n",
            "dtypes: float64(3), int64(13)\n",
            "memory usage: 971.0 KB\n"
          ]
        }
      ]
    },
    {
      "cell_type": "code",
      "source": [
        "from sklearn.model_selection import train_test_split\n",
        "from sklearn.metrics import accuracy_score, confusion_matrix, mean_squared_error\n",
        "from sklearn.model_selection import cross_val_score, GridSearchCV, KFold, RandomizedSearchCV, train_test_split\n",
        "from sklearn.preprocessing import MinMaxScaler\n"
      ],
      "metadata": {
        "id": "sLeOYI8DVy5M"
      },
      "execution_count": null,
      "outputs": []
    },
    {
      "cell_type": "code",
      "source": [
        "Y=df['term_deposit_subscribed']\n",
        "Y=pd.DataFrame(Y)\n",
        "\n",
        "X=df.drop(['term_deposit_subscribed'],axis=1)\n",
        "X=pd.DataFrame(X)"
      ],
      "metadata": {
        "id": "8nX1XZFRWBlZ"
      },
      "execution_count": null,
      "outputs": []
    },
    {
      "cell_type": "code",
      "source": [
        "from sklearn.linear_model import LogisticRegression\n",
        "lr=LogisticRegression()\n",
        "lr.fit(X,Y)\n",
        "\n",
        "y_pred1 = lr.predict_proba(df_new)\n",
        "y_pred1=pd.DataFrame(y_pred1)\n",
        "y_pred=lr.predict(df_new)\n",
        "y_pred=pd.DataFrame(y_pred)\n",
        "print(y_pred)\n",
        "print(y_pred1)"
      ],
      "metadata": {
        "colab": {
          "base_uri": "https://localhost:8080/"
        },
        "id": "gPP9LgD_WI_a",
        "outputId": "bd3a0318-c3d2-4a98-ca06-8e6a9f728059"
      },
      "execution_count": null,
      "outputs": [
        {
          "output_type": "stream",
          "name": "stderr",
          "text": [
            "/usr/local/lib/python3.7/dist-packages/sklearn/utils/validation.py:993: DataConversionWarning: A column-vector y was passed when a 1d array was expected. Please change the shape of y to (n_samples, ), for example using ravel().\n",
            "  y = column_or_1d(y, warn=True)\n"
          ]
        },
        {
          "output_type": "stream",
          "name": "stdout",
          "text": [
            "      0\n",
            "0     0\n",
            "1     0\n",
            "2     0\n",
            "3     0\n",
            "4     0\n",
            "...  ..\n",
            "7762  0\n",
            "7763  0\n",
            "7764  0\n",
            "7765  0\n",
            "7766  0\n",
            "\n",
            "[7767 rows x 1 columns]\n",
            "             0         1\n",
            "0     0.999902  0.000098\n",
            "1     0.999893  0.000107\n",
            "2     0.999876  0.000124\n",
            "3     0.999867  0.000133\n",
            "4     0.999180  0.000820\n",
            "...        ...       ...\n",
            "7762  0.999671  0.000329\n",
            "7763  0.998840  0.001160\n",
            "7764  0.999234  0.000766\n",
            "7765  0.999913  0.000087\n",
            "7766  0.999884  0.000116\n",
            "\n",
            "[7767 rows x 2 columns]\n"
          ]
        },
        {
          "output_type": "stream",
          "name": "stderr",
          "text": [
            "/usr/local/lib/python3.7/dist-packages/sklearn/linear_model/_logistic.py:818: ConvergenceWarning: lbfgs failed to converge (status=1):\n",
            "STOP: TOTAL NO. of ITERATIONS REACHED LIMIT.\n",
            "\n",
            "Increase the number of iterations (max_iter) or scale the data as shown in:\n",
            "    https://scikit-learn.org/stable/modules/preprocessing.html\n",
            "Please also refer to the documentation for alternative solver options:\n",
            "    https://scikit-learn.org/stable/modules/linear_model.html#logistic-regression\n",
            "  extra_warning_msg=_LOGISTIC_SOLVER_CONVERGENCE_MSG,\n",
            "/usr/local/lib/python3.7/dist-packages/sklearn/base.py:493: FutureWarning: The feature names should match those that were passed during fit. Starting version 1.2, an error will be raised.\n",
            "Feature names must be in the same order as they were in fit.\n",
            "\n",
            "  warnings.warn(message, FutureWarning)\n",
            "/usr/local/lib/python3.7/dist-packages/sklearn/base.py:493: FutureWarning: The feature names should match those that were passed during fit. Starting version 1.2, an error will be raised.\n",
            "Feature names must be in the same order as they were in fit.\n",
            "\n",
            "  warnings.warn(message, FutureWarning)\n"
          ]
        }
      ]
    },
    {
      "cell_type": "code",
      "source": [
        "y_pred.to_csv('pred.csv',index=False)\n",
        "y_pred1.to_csv('pred_probabilties.csv',index=False)"
      ],
      "metadata": {
        "id": "ARgalw9wYHwm"
      },
      "execution_count": null,
      "outputs": []
    },
    {
      "cell_type": "code",
      "source": [
        "y_pred.value_counts()\n"
      ],
      "metadata": {
        "colab": {
          "base_uri": "https://localhost:8080/"
        },
        "id": "ceX2v3qaYH7l",
        "outputId": "502dcfe5-cb03-4dda-9aed-b44bd97e98c2"
      },
      "execution_count": null,
      "outputs": [
        {
          "output_type": "execute_result",
          "data": {
            "text/plain": [
              "0    7767\n",
              "dtype: int64"
            ]
          },
          "metadata": {},
          "execution_count": 39
        }
      ]
    },
    {
      "cell_type": "code",
      "source": [
        "from imblearn.over_sampling import SMOTE\n",
        "sm = SMOTE(random_state=42)\n",
        "X_res, y_res = sm.fit_resample(X, Y)"
      ],
      "metadata": {
        "id": "zWCg-KOhZpdi"
      },
      "execution_count": null,
      "outputs": []
    },
    {
      "cell_type": "code",
      "source": [
        "y_res=pd.DataFrame(y_res)\n"
      ],
      "metadata": {
        "id": "L5rqRVBOyvWt"
      },
      "execution_count": null,
      "outputs": []
    },
    {
      "cell_type": "code",
      "source": [
        "y_res['term_deposit_subscribed'].value_counts()"
      ],
      "metadata": {
        "colab": {
          "base_uri": "https://localhost:8080/"
        },
        "id": "IkN2_FITzUus",
        "outputId": "0832d7cd-d6b2-4316-c8a5-25e9091664ec"
      },
      "execution_count": null,
      "outputs": [
        {
          "output_type": "execute_result",
          "data": {
            "text/plain": [
              "0    21344\n",
              "1    21344\n",
              "Name: term_deposit_subscribed, dtype: int64"
            ]
          },
          "metadata": {},
          "execution_count": 42
        }
      ]
    },
    {
      "cell_type": "code",
      "source": [
        "from sklearn.linear_model import LogisticRegression\n",
        "lr=LogisticRegression()\n",
        "lr.fit(X_res,y_res)\n",
        "\n",
        "y_pred1 = lr.predict_proba(df_new)\n",
        "y_pred1=pd.DataFrame(y_pred1)\n",
        "y_pred=lr.predict(df_new)\n",
        "y_pred=pd.DataFrame(y_pred)\n",
        "print(y_pred)\n",
        "print(y_pred1)"
      ],
      "metadata": {
        "colab": {
          "base_uri": "https://localhost:8080/"
        },
        "id": "AnQyrqZyysSp",
        "outputId": "a42cd4a6-1f07-4b41-b86f-1226e92e4616"
      },
      "execution_count": null,
      "outputs": [
        {
          "output_type": "stream",
          "name": "stderr",
          "text": [
            "/usr/local/lib/python3.7/dist-packages/sklearn/utils/validation.py:993: DataConversionWarning: A column-vector y was passed when a 1d array was expected. Please change the shape of y to (n_samples, ), for example using ravel().\n",
            "  y = column_or_1d(y, warn=True)\n"
          ]
        },
        {
          "output_type": "stream",
          "name": "stdout",
          "text": [
            "      0\n",
            "0     0\n",
            "1     0\n",
            "2     0\n",
            "3     0\n",
            "4     0\n",
            "...  ..\n",
            "7762  0\n",
            "7763  0\n",
            "7764  0\n",
            "7765  0\n",
            "7766  0\n",
            "\n",
            "[7767 rows x 1 columns]\n",
            "             0         1\n",
            "0     0.999782  0.000218\n",
            "1     0.998013  0.001987\n",
            "2     0.999500  0.000500\n",
            "3     0.999280  0.000720\n",
            "4     0.997044  0.002956\n",
            "...        ...       ...\n",
            "7762  0.997600  0.002400\n",
            "7763  0.975078  0.024922\n",
            "7764  0.997143  0.002857\n",
            "7765  0.999727  0.000273\n",
            "7766  0.999574  0.000426\n",
            "\n",
            "[7767 rows x 2 columns]\n"
          ]
        },
        {
          "output_type": "stream",
          "name": "stderr",
          "text": [
            "/usr/local/lib/python3.7/dist-packages/sklearn/linear_model/_logistic.py:818: ConvergenceWarning: lbfgs failed to converge (status=1):\n",
            "STOP: TOTAL NO. of ITERATIONS REACHED LIMIT.\n",
            "\n",
            "Increase the number of iterations (max_iter) or scale the data as shown in:\n",
            "    https://scikit-learn.org/stable/modules/preprocessing.html\n",
            "Please also refer to the documentation for alternative solver options:\n",
            "    https://scikit-learn.org/stable/modules/linear_model.html#logistic-regression\n",
            "  extra_warning_msg=_LOGISTIC_SOLVER_CONVERGENCE_MSG,\n",
            "/usr/local/lib/python3.7/dist-packages/sklearn/base.py:493: FutureWarning: The feature names should match those that were passed during fit. Starting version 1.2, an error will be raised.\n",
            "Feature names must be in the same order as they were in fit.\n",
            "\n",
            "  warnings.warn(message, FutureWarning)\n",
            "/usr/local/lib/python3.7/dist-packages/sklearn/base.py:493: FutureWarning: The feature names should match those that were passed during fit. Starting version 1.2, an error will be raised.\n",
            "Feature names must be in the same order as they were in fit.\n",
            "\n",
            "  warnings.warn(message, FutureWarning)\n"
          ]
        }
      ]
    },
    {
      "cell_type": "code",
      "source": [
        "y_pred.to_csv('pred_2.csv',index=False)\n",
        "y_pred1.to_csv('pred_probabilties_2.csv',index=False)"
      ],
      "metadata": {
        "id": "enI4_wk9zUNw"
      },
      "execution_count": null,
      "outputs": []
    },
    {
      "cell_type": "code",
      "source": [
        "y_pred.value_counts()"
      ],
      "metadata": {
        "colab": {
          "base_uri": "https://localhost:8080/"
        },
        "id": "smn7eboOznO4",
        "outputId": "a95f29ab-5a21-4920-877e-c727c04ccbff"
      },
      "execution_count": null,
      "outputs": [
        {
          "output_type": "execute_result",
          "data": {
            "text/plain": [
              "0    7764\n",
              "1       3\n",
              "dtype: int64"
            ]
          },
          "metadata": {},
          "execution_count": 45
        }
      ]
    },
    {
      "cell_type": "code",
      "source": [],
      "metadata": {
        "id": "xaVMW9RzzzQG"
      },
      "execution_count": null,
      "outputs": []
    }
  ]
}